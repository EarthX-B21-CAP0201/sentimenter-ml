{
  "nbformat": 4,
  "nbformat_minor": 0,
  "metadata": {
    "accelerator": "GPU",
    "colab": {
      "name": "[v2] capstone_adiva.ipynb",
      "provenance": [],
      "collapsed_sections": [],
      "toc_visible": true
    },
    "kernelspec": {
      "display_name": "Python 3",
      "language": "python",
      "name": "python3"
    },
    "language_info": {
      "codemirror_mode": {
        "name": "ipython",
        "version": 3
      },
      "file_extension": ".py",
      "mimetype": "text/x-python",
      "name": "python",
      "nbconvert_exporter": "python",
      "pygments_lexer": "ipython3",
      "version": "3.6.9"
    }
  },
  "cells": [
    {
      "cell_type": "code",
      "metadata": {
        "colab": {
          "base_uri": "https://localhost:8080/"
        },
        "id": "jWLjHKtIrs4b",
        "outputId": "2913cd03-a452-47f2-a296-d0589b4a53e1"
      },
      "source": [
        "!pip install Sastrawi"
      ],
      "execution_count": 1,
      "outputs": [
        {
          "output_type": "stream",
          "text": [
            "Collecting Sastrawi\n",
            "\u001b[?25l  Downloading https://files.pythonhosted.org/packages/6f/4b/bab676953da3103003730b8fcdfadbdd20f333d4add10af949dd5c51e6ed/Sastrawi-1.0.1-py2.py3-none-any.whl (209kB)\n",
            "\r\u001b[K     |█▋                              | 10kB 20.0MB/s eta 0:00:01\r\u001b[K     |███▏                            | 20kB 25.4MB/s eta 0:00:01\r\u001b[K     |████▊                           | 30kB 28.7MB/s eta 0:00:01\r\u001b[K     |██████▎                         | 40kB 31.7MB/s eta 0:00:01\r\u001b[K     |███████▉                        | 51kB 34.6MB/s eta 0:00:01\r\u001b[K     |█████████▍                      | 61kB 33.0MB/s eta 0:00:01\r\u001b[K     |███████████                     | 71kB 30.5MB/s eta 0:00:01\r\u001b[K     |████████████▌                   | 81kB 31.2MB/s eta 0:00:01\r\u001b[K     |██████████████                  | 92kB 30.8MB/s eta 0:00:01\r\u001b[K     |███████████████▋                | 102kB 31.1MB/s eta 0:00:01\r\u001b[K     |█████████████████▏              | 112kB 31.1MB/s eta 0:00:01\r\u001b[K     |██████████████████▊             | 122kB 31.1MB/s eta 0:00:01\r\u001b[K     |████████████████████▎           | 133kB 31.1MB/s eta 0:00:01\r\u001b[K     |█████████████████████▉          | 143kB 31.1MB/s eta 0:00:01\r\u001b[K     |███████████████████████▍        | 153kB 31.1MB/s eta 0:00:01\r\u001b[K     |█████████████████████████       | 163kB 31.1MB/s eta 0:00:01\r\u001b[K     |██████████████████████████▋     | 174kB 31.1MB/s eta 0:00:01\r\u001b[K     |████████████████████████████▏   | 184kB 31.1MB/s eta 0:00:01\r\u001b[K     |█████████████████████████████▊  | 194kB 31.1MB/s eta 0:00:01\r\u001b[K     |███████████████████████████████▎| 204kB 31.1MB/s eta 0:00:01\r\u001b[K     |████████████████████████████████| 215kB 31.1MB/s \n",
            "\u001b[?25hInstalling collected packages: Sastrawi\n",
            "Successfully installed Sastrawi-1.0.1\n"
          ],
          "name": "stdout"
        }
      ]
    },
    {
      "cell_type": "code",
      "metadata": {
        "id": "-wPenJ_1CJYQ"
      },
      "source": [
        "# DataFrame\n",
        "import pandas as pd\n",
        "\n",
        "# Scikit-learn\n",
        "from sklearn.model_selection import train_test_split\n",
        "from sklearn.preprocessing import LabelEncoder\n",
        "from sklearn.metrics import confusion_matrix, classification_report, accuracy_score\n",
        "from sklearn.manifold import TSNE\n",
        "from sklearn.feature_extraction.text import TfidfVectorizer\n",
        "\n",
        "# Keras\n",
        "from keras.preprocessing.text import Tokenizer\n",
        "from keras.preprocessing.sequence import pad_sequences\n",
        "from keras.models import Sequential\n",
        "# from keras.layers import Activation, Dense, Dropout, Embedding, Flatten, Conv1D, MaxPooling1D, LSTM\n",
        "from keras.layers import Dense, Dropout, Embedding, LSTM\n",
        "from keras import utils\n",
        "# from keras.callbacks import ReduceLROnPlateau, EarlyStopping\n",
        "\n",
        "import Sastrawi\n",
        "from Sastrawi.StopWordRemover.StopWordRemoverFactory import StopWordRemoverFactory\n",
        "from Sastrawi.Stemmer.StemmerFactory import StemmerFactory\n",
        "\n",
        "# Utility\n",
        "import re\n",
        "import numpy as np\n",
        "import logging\n",
        "import time\n",
        "import pickle\n",
        "import itertools\n",
        "\n",
        "# Set log\n",
        "logging.basicConfig(format='%(asctime)s : %(levelname)s : %(message)s', level=logging.INFO)"
      ],
      "execution_count": 2,
      "outputs": []
    },
    {
      "cell_type": "code",
      "metadata": {
        "id": "7JdVqgTjCMxP"
      },
      "source": [
        "stopwords_factory = StopWordRemoverFactory()\n",
        "stemmer_factory = StemmerFactory()"
      ],
      "execution_count": 3,
      "outputs": []
    },
    {
      "cell_type": "code",
      "metadata": {
        "id": "XrKHqdDWCPVz"
      },
      "source": [
        "# EXPORT\n",
        "KERAS_MODEL = \"model.h5\"\n",
        "WORD2VEC_MODEL = \"model.w2v\"\n",
        "TOKENIZER_MODEL = \"tokenizer.pkl\"\n",
        "ENCODER_MODEL = \"encoder.pkl\""
      ],
      "execution_count": 4,
      "outputs": []
    },
    {
      "cell_type": "code",
      "metadata": {
        "id": "2K6NZG15CqjV"
      },
      "source": [
        "# DATASET\n",
        "DATASET_COLUMNS=[\"target\", \"text\"]\n",
        "DATASET_ENCODING = \"ISO-8859-1\"\n",
        "TRAIN_SIZE = 0.95\n",
        "\n",
        "df = pd.read_csv(\"dataset_tweet_sentimen_all.csv\", encoding = DATASET_ENCODING, names=DATASET_COLUMNS, delimiter=',', low_memory=False)\n",
        "df = df.iloc[1:]"
      ],
      "execution_count": 6,
      "outputs": []
    },
    {
      "cell_type": "code",
      "metadata": {
        "colab": {
          "base_uri": "https://localhost:8080/"
        },
        "id": "zt-0jHy7CwTf",
        "outputId": "b55ceaf1-c927-4810-d216-d06a54e10979"
      },
      "source": [
        "print(\"Dataset size:\", len(df))"
      ],
      "execution_count": 7,
      "outputs": [
        {
          "output_type": "stream",
          "text": [
            "Dataset size: 1800\n"
          ],
          "name": "stdout"
        }
      ]
    },
    {
      "cell_type": "code",
      "metadata": {
        "colab": {
          "base_uri": "https://localhost:8080/",
          "height": 202
        },
        "id": "avcXIUd_D7vL",
        "outputId": "0033a081-cd82-4507-ca6d-0eab0fb2b415"
      },
      "source": [
        "df.head()"
      ],
      "execution_count": 8,
      "outputs": [
        {
          "output_type": "execute_result",
          "data": {
            "text/html": [
              "<div>\n",
              "<style scoped>\n",
              "    .dataframe tbody tr th:only-of-type {\n",
              "        vertical-align: middle;\n",
              "    }\n",
              "\n",
              "    .dataframe tbody tr th {\n",
              "        vertical-align: top;\n",
              "    }\n",
              "\n",
              "    .dataframe thead th {\n",
              "        text-align: right;\n",
              "    }\n",
              "</style>\n",
              "<table border=\"1\" class=\"dataframe\">\n",
              "  <thead>\n",
              "    <tr style=\"text-align: right;\">\n",
              "      <th></th>\n",
              "      <th>target</th>\n",
              "      <th>text</th>\n",
              "    </tr>\n",
              "  </thead>\n",
              "  <tbody>\n",
              "    <tr>\n",
              "      <th>1</th>\n",
              "      <td>positive</td>\n",
              "      <td>Undang @N_ShaniJKT48 ke hitamputih, pemenang S...</td>\n",
              "    </tr>\n",
              "    <tr>\n",
              "      <th>2</th>\n",
              "      <td>positive</td>\n",
              "      <td>Selamat berbuka puasa Semoga amal ibadah hari ...</td>\n",
              "    </tr>\n",
              "    <tr>\n",
              "      <th>3</th>\n",
              "      <td>positive</td>\n",
              "      <td>Ada nih di trans7 hitam putih, dia dpt penghar...</td>\n",
              "    </tr>\n",
              "    <tr>\n",
              "      <th>4</th>\n",
              "      <td>positive</td>\n",
              "      <td>selamat ya mas @adietaufan masuk hitamputih</td>\n",
              "    </tr>\n",
              "    <tr>\n",
              "      <th>5</th>\n",
              "      <td>positive</td>\n",
              "      <td>Asiknya nonton Hitam Putih Trans7</td>\n",
              "    </tr>\n",
              "  </tbody>\n",
              "</table>\n",
              "</div>"
            ],
            "text/plain": [
              "     target                                               text\n",
              "1  positive  Undang @N_ShaniJKT48 ke hitamputih, pemenang S...\n",
              "2  positive  Selamat berbuka puasa Semoga amal ibadah hari ...\n",
              "3  positive  Ada nih di trans7 hitam putih, dia dpt penghar...\n",
              "4  positive        selamat ya mas @adietaufan masuk hitamputih\n",
              "5  positive                  Asiknya nonton Hitam Putih Trans7"
            ]
          },
          "metadata": {
            "tags": []
          },
          "execution_count": 8
        }
      ]
    },
    {
      "cell_type": "code",
      "metadata": {
        "colab": {
          "base_uri": "https://localhost:8080/",
          "height": 516
        },
        "id": "zrrTnbQJEKTj",
        "outputId": "562ccabc-ad5a-4e90-c065-8821bac7fe50"
      },
      "source": [
        "from collections import Counter\n",
        "import matplotlib.pyplot as plt\n",
        "%matplotlib inline\n",
        "\n",
        "target_cnt = Counter(df.target)\n",
        "\n",
        "plt.figure(figsize=(16,8))\n",
        "plt.bar(target_cnt.keys(), target_cnt.values())\n",
        "plt.title(\"Dataset labels distribuition\")"
      ],
      "execution_count": 9,
      "outputs": [
        {
          "output_type": "execute_result",
          "data": {
            "text/plain": [
              "Text(0.5, 1.0, 'Dataset labels distribuition')"
            ]
          },
          "metadata": {
            "tags": []
          },
          "execution_count": 9
        },
        {
          "output_type": "display_data",
          "data": {
            "image/png": "[encoded data removed]",
            "text/plain": [
              "<Figure size 1152x576 with 1 Axes>"
            ]
          },
          "metadata": {
            "tags": [],
            "needs_background": "light"
          }
        }
      ]
    },
    {
      "cell_type": "code",
      "metadata": {
        "id": "u0ek21bFEQEI"
      },
      "source": [
        "stop_words = stopwords_factory.get_stop_words()\n",
        "stemmer = stemmer_factory.create_stemmer()"
      ],
      "execution_count": 10,
      "outputs": []
    },
    {
      "cell_type": "code",
      "metadata": {
        "id": "rF1tHwgwWlOI"
      },
      "source": [
        "stop_words.append('<USER_MENTION>')\n",
        "stop_words.append('URL')"
      ],
      "execution_count": 11,
      "outputs": []
    },
    {
      "cell_type": "code",
      "metadata": {
        "id": "aBC0JkpBER9o"
      },
      "source": [
        "def preprocess(text, stem=False):\n",
        "    #Convert to lower case\n",
        "    text = text.lower()\n",
        "    #Convert www.* or https?://* to URL\n",
        "    text = re.sub('((www\\.[^\\s]+)|(https?://[^\\s]+))','URL',text)\n",
        "    #Convert @username to AT_USER\n",
        "    # text = re.sub('@[^\\s]+','AT_USER',text)\n",
        "    text = re.sub('@[^\\s]+','<USER_MENTION>',text)\n",
        "    #Remove additional white spaces\n",
        "    text = re.sub('[\\s]+', ' ', text)\n",
        "    #Replace #word with word\n",
        "    text = re.sub(r'#([^\\s]+)', r'\\1', text)\n",
        "    #trim\n",
        "    text = text.strip('\\'\"')\n",
        "    return text"
      ],
      "execution_count": 12,
      "outputs": []
    },
    {
      "cell_type": "code",
      "metadata": {
        "id": "tGaR-dPhXSMy"
      },
      "source": [
        "#start getfeatureVector\n",
        "def getFeatureVector(text):\n",
        "    featureVector = []\n",
        "    #split tweet into words\n",
        "    words = text.split()\n",
        "    for w in words:\n",
        "        #replace two or more with two occurrences\n",
        "        w = preprocess(w)\n",
        "        #strip punctuation\n",
        "        w = w.strip('\\'\"?,.')\n",
        "        #check if the word stats with an alphabet\n",
        "        val = re.search(r\"^[a-zA-Z][a-zA-Z0-9]*$\", w)\n",
        "        #ignore if it is a stop word\n",
        "        if(w in stop_words or val is None):\n",
        "            continue\n",
        "        else:\n",
        "            featureVector.append(w.lower())\n",
        "    return \" \".join(featureVector)"
      ],
      "execution_count": 13,
      "outputs": []
    },
    {
      "cell_type": "code",
      "metadata": {
        "colab": {
          "base_uri": "https://localhost:8080/"
        },
        "id": "MWDZM7D9ETcY",
        "outputId": "f0650c40-be4f-401d-84d0-2b9c1e9c1a1d"
      },
      "source": [
        "%%time\n",
        "df.text = df.text.apply(lambda x: getFeatureVector(x))"
      ],
      "execution_count": 14,
      "outputs": [
        {
          "output_type": "stream",
          "text": [
            "CPU times: user 198 ms, sys: 2.61 ms, total: 201 ms\n",
            "Wall time: 202 ms\n"
          ],
          "name": "stdout"
        }
      ]
    },
    {
      "cell_type": "code",
      "metadata": {
        "colab": {
          "base_uri": "https://localhost:8080/",
          "height": 1000
        },
        "id": "mVOpfa-tHV8B",
        "outputId": "e81c203a-7666-42f6-80b7-202b99c9aa52"
      },
      "source": [
        "df.head(40)"
      ],
      "execution_count": 15,
      "outputs": [
        {
          "output_type": "execute_result",
          "data": {
            "text/html": [
              "<div>\n",
              "<style scoped>\n",
              "    .dataframe tbody tr th:only-of-type {\n",
              "        vertical-align: middle;\n",
              "    }\n",
              "\n",
              "    .dataframe tbody tr th {\n",
              "        vertical-align: top;\n",
              "    }\n",
              "\n",
              "    .dataframe thead th {\n",
              "        text-align: right;\n",
              "    }\n",
              "</style>\n",
              "<table border=\"1\" class=\"dataframe\">\n",
              "  <thead>\n",
              "    <tr style=\"text-align: right;\">\n",
              "      <th></th>\n",
              "      <th>target</th>\n",
              "      <th>text</th>\n",
              "    </tr>\n",
              "  </thead>\n",
              "  <tbody>\n",
              "    <tr>\n",
              "      <th>1</th>\n",
              "      <td>positive</td>\n",
              "      <td>undang hitamputih pemenang ssk jkt48 harusnya ...</td>\n",
              "    </tr>\n",
              "    <tr>\n",
              "      <th>2</th>\n",
              "      <td>positive</td>\n",
              "      <td>selamat berbuka puasa semoga amal ibadah hari ...</td>\n",
              "    </tr>\n",
              "    <tr>\n",
              "      <th>3</th>\n",
              "      <td>positive</td>\n",
              "      <td>nih trans7 hitam putih dpt penghargaan norwegi...</td>\n",
              "    </tr>\n",
              "    <tr>\n",
              "      <th>4</th>\n",
              "      <td>positive</td>\n",
              "      <td>selamat mas masuk hitamputih</td>\n",
              "    </tr>\n",
              "    <tr>\n",
              "      <th>5</th>\n",
              "      <td>positive</td>\n",
              "      <td>asiknya nonton hitam putih trans7</td>\n",
              "    </tr>\n",
              "    <tr>\n",
              "      <th>6</th>\n",
              "      <td>positive</td>\n",
              "      <td>acara paling komplit menarik hitam putih</td>\n",
              "    </tr>\n",
              "    <tr>\n",
              "      <th>7</th>\n",
              "      <td>positive</td>\n",
              "      <td>hitam putih t7 inspiratif banget</td>\n",
              "    </tr>\n",
              "    <tr>\n",
              "      <th>8</th>\n",
              "      <td>positive</td>\n",
              "      <td>suka banget acara hitam putih</td>\n",
              "    </tr>\n",
              "    <tr>\n",
              "      <th>9</th>\n",
              "      <td>positive</td>\n",
              "      <td>keren lu bro hitamputihtrans7</td>\n",
              "    </tr>\n",
              "    <tr>\n",
              "      <th>10</th>\n",
              "      <td>positive</td>\n",
              "      <td>tadi yg liat hitam putih trans7 ga sanggu ganteng</td>\n",
              "    </tr>\n",
              "    <tr>\n",
              "      <th>11</th>\n",
              "      <td>positive</td>\n",
              "      <td>cinta mengikat silaturahmi hati lunamaya hitam...</td>\n",
              "    </tr>\n",
              "    <tr>\n",
              "      <th>12</th>\n",
              "      <td>positive</td>\n",
              "      <td>terima kasih pak mau membantu menyekolahkan ad...</td>\n",
              "    </tr>\n",
              "    <tr>\n",
              "      <th>13</th>\n",
              "      <td>positive</td>\n",
              "      <td>semoga lancar hitamputihtrans7</td>\n",
              "    </tr>\n",
              "    <tr>\n",
              "      <th>14</th>\n",
              "      <td>positive</td>\n",
              "      <td>trans7 hitam putih terbaik</td>\n",
              "    </tr>\n",
              "    <tr>\n",
              "      <th>15</th>\n",
              "      <td>positive</td>\n",
              "      <td>acara hitam putih paling bagus buat lihat</td>\n",
              "    </tr>\n",
              "    <tr>\n",
              "      <th>16</th>\n",
              "      <td>positive</td>\n",
              "      <td>undang acara hitam putih jebolan dangdut acade...</td>\n",
              "    </tr>\n",
              "    <tr>\n",
              "      <th>17</th>\n",
              "      <td>positive</td>\n",
              "      <td>bagus rancangan trans7 hitamputih sambil2 dakw...</td>\n",
              "    </tr>\n",
              "    <tr>\n",
              "      <th>18</th>\n",
              "      <td>positive</td>\n",
              "      <td>wah kapan rihanna jadi bintang tamu hitam puti...</td>\n",
              "    </tr>\n",
              "    <tr>\n",
              "      <th>19</th>\n",
              "      <td>positive</td>\n",
              "      <td>terimakasih menonton hitam putih malam semoga ...</td>\n",
              "    </tr>\n",
              "    <tr>\n",
              "      <th>20</th>\n",
              "      <td>positive</td>\n",
              "      <td>acara hitam putih trans7 topiknya bagus nih tt...</td>\n",
              "    </tr>\n",
              "    <tr>\n",
              "      <th>21</th>\n",
              "      <td>positive</td>\n",
              "      <td>nonton kisah anastasya wella hitamputihtrans7 ...</td>\n",
              "    </tr>\n",
              "    <tr>\n",
              "      <th>22</th>\n",
              "      <td>positive</td>\n",
              "      <td>bikin selalu rindu kalau jauh nya hitamputihtr...</td>\n",
              "    </tr>\n",
              "    <tr>\n",
              "      <th>23</th>\n",
              "      <td>positive</td>\n",
              "      <td>wihh hebat kakek neneknya</td>\n",
              "    </tr>\n",
              "    <tr>\n",
              "      <th>24</th>\n",
              "      <td>positive</td>\n",
              "      <td>menunggu sekian lama akhirnya nongol hitam put...</td>\n",
              "    </tr>\n",
              "    <tr>\n",
              "      <th>25</th>\n",
              "      <td>positive</td>\n",
              "      <td>makin asik hitam putih</td>\n",
              "    </tr>\n",
              "    <tr>\n",
              "      <th>26</th>\n",
              "      <td>positive</td>\n",
              "      <td>spensa boys asal poso hitam putih trans7 asli ...</td>\n",
              "    </tr>\n",
              "    <tr>\n",
              "      <th>27</th>\n",
              "      <td>positive</td>\n",
              "      <td>wahh asik nih vocalgrup hitamputih thanks</td>\n",
              "    </tr>\n",
              "    <tr>\n",
              "      <th>28</th>\n",
              "      <td>positive</td>\n",
              "      <td>hari aku slalu nonton hitam putih trans7 hbs a...</td>\n",
              "    </tr>\n",
              "    <tr>\n",
              "      <th>29</th>\n",
              "      <td>positive</td>\n",
              "      <td>acara hitam putih trans7 malam pembahasannya s...</td>\n",
              "    </tr>\n",
              "    <tr>\n",
              "      <th>30</th>\n",
              "      <td>positive</td>\n",
              "      <td>lg seru nonton hitam putih terus lanjut nonton...</td>\n",
              "    </tr>\n",
              "    <tr>\n",
              "      <th>31</th>\n",
              "      <td>positive</td>\n",
              "      <td>hpjkt48 jkt48hitamputiht7 trio unyu acara mast...</td>\n",
              "    </tr>\n",
              "    <tr>\n",
              "      <th>32</th>\n",
              "      <td>positive</td>\n",
              "      <td>perusahaan jujur punya pekerja yg jujur hitamp...</td>\n",
              "    </tr>\n",
              "    <tr>\n",
              "      <th>33</th>\n",
              "      <td>positive</td>\n",
              "      <td>keren undang dong acara hitamputih acara presiden</td>\n",
              "    </tr>\n",
              "    <tr>\n",
              "      <th>34</th>\n",
              "      <td>positive</td>\n",
              "      <td>suka banget sama episode hitam putih malam</td>\n",
              "    </tr>\n",
              "    <tr>\n",
              "      <th>35</th>\n",
              "      <td>positive</td>\n",
              "      <td>kangen jeketi jadi bintang tamu hitam putih tr...</td>\n",
              "    </tr>\n",
              "    <tr>\n",
              "      <th>36</th>\n",
              "      <td>positive</td>\n",
              "      <td>terima kasih menyaksikan hitam putih hari semo...</td>\n",
              "    </tr>\n",
              "    <tr>\n",
              "      <th>37</th>\n",
              "      <td>positive</td>\n",
              "      <td>makin hitam putih mau donk undang</td>\n",
              "    </tr>\n",
              "    <tr>\n",
              "      <th>38</th>\n",
              "      <td>positive</td>\n",
              "      <td>sangat menginspirasi hitamputihtrans7 focus ha...</td>\n",
              "    </tr>\n",
              "    <tr>\n",
              "      <th>39</th>\n",
              "      <td>positive</td>\n",
              "      <td>seru nih hitam putih trans7 live</td>\n",
              "    </tr>\n",
              "    <tr>\n",
              "      <th>40</th>\n",
              "      <td>positive</td>\n",
              "      <td>bersyukurlah hidup indonesia hitamputihtrans7</td>\n",
              "    </tr>\n",
              "  </tbody>\n",
              "</table>\n",
              "</div>"
            ],
            "text/plain": [
              "      target                                               text\n",
              "1   positive  undang hitamputih pemenang ssk jkt48 harusnya ...\n",
              "2   positive  selamat berbuka puasa semoga amal ibadah hari ...\n",
              "3   positive  nih trans7 hitam putih dpt penghargaan norwegi...\n",
              "4   positive                       selamat mas masuk hitamputih\n",
              "5   positive                  asiknya nonton hitam putih trans7\n",
              "6   positive           acara paling komplit menarik hitam putih\n",
              "7   positive                   hitam putih t7 inspiratif banget\n",
              "8   positive                      suka banget acara hitam putih\n",
              "9   positive                      keren lu bro hitamputihtrans7\n",
              "10  positive  tadi yg liat hitam putih trans7 ga sanggu ganteng\n",
              "11  positive  cinta mengikat silaturahmi hati lunamaya hitam...\n",
              "12  positive  terima kasih pak mau membantu menyekolahkan ad...\n",
              "13  positive                     semoga lancar hitamputihtrans7\n",
              "14  positive                         trans7 hitam putih terbaik\n",
              "15  positive          acara hitam putih paling bagus buat lihat\n",
              "16  positive  undang acara hitam putih jebolan dangdut acade...\n",
              "17  positive  bagus rancangan trans7 hitamputih sambil2 dakw...\n",
              "18  positive  wah kapan rihanna jadi bintang tamu hitam puti...\n",
              "19  positive  terimakasih menonton hitam putih malam semoga ...\n",
              "20  positive  acara hitam putih trans7 topiknya bagus nih tt...\n",
              "21  positive  nonton kisah anastasya wella hitamputihtrans7 ...\n",
              "22  positive  bikin selalu rindu kalau jauh nya hitamputihtr...\n",
              "23  positive                          wihh hebat kakek neneknya\n",
              "24  positive  menunggu sekian lama akhirnya nongol hitam put...\n",
              "25  positive                             makin asik hitam putih\n",
              "26  positive  spensa boys asal poso hitam putih trans7 asli ...\n",
              "27  positive          wahh asik nih vocalgrup hitamputih thanks\n",
              "28  positive  hari aku slalu nonton hitam putih trans7 hbs a...\n",
              "29  positive  acara hitam putih trans7 malam pembahasannya s...\n",
              "30  positive  lg seru nonton hitam putih terus lanjut nonton...\n",
              "31  positive  hpjkt48 jkt48hitamputiht7 trio unyu acara mast...\n",
              "32  positive  perusahaan jujur punya pekerja yg jujur hitamp...\n",
              "33  positive  keren undang dong acara hitamputih acara presiden\n",
              "34  positive         suka banget sama episode hitam putih malam\n",
              "35  positive  kangen jeketi jadi bintang tamu hitam putih tr...\n",
              "36  positive  terima kasih menyaksikan hitam putih hari semo...\n",
              "37  positive                  makin hitam putih mau donk undang\n",
              "38  positive  sangat menginspirasi hitamputihtrans7 focus ha...\n",
              "39  positive                   seru nih hitam putih trans7 live\n",
              "40  positive      bersyukurlah hidup indonesia hitamputihtrans7"
            ]
          },
          "metadata": {
            "tags": []
          },
          "execution_count": 15
        }
      ]
    },
    {
      "cell_type": "code",
      "metadata": {
        "colab": {
          "base_uri": "https://localhost:8080/"
        },
        "id": "8vL635c_Egu5",
        "outputId": "d293261d-5492-465a-875f-4fabb4030196"
      },
      "source": [
        "df_train, df_test = train_test_split(df, test_size=1-TRAIN_SIZE, random_state=42)\n",
        "print(\"TRAIN size:\", len(df_train))\n",
        "print(\"TEST size:\", len(df_test))"
      ],
      "execution_count": 16,
      "outputs": [
        {
          "output_type": "stream",
          "text": [
            "TRAIN size: 1709\n",
            "TEST size: 91\n"
          ],
          "name": "stdout"
        }
      ]
    },
    {
      "cell_type": "code",
      "metadata": {
        "colab": {
          "base_uri": "https://localhost:8080/"
        },
        "id": "k1tKK9r1EkJa",
        "outputId": "3f002ae0-0e4b-4f82-80e9-eb2dd5c97c58"
      },
      "source": [
        "%%time\n",
        "documents = [_text.split() for _text in df_train.text] "
      ],
      "execution_count": 17,
      "outputs": [
        {
          "output_type": "stream",
          "text": [
            "CPU times: user 922 µs, sys: 2.01 ms, total: 2.93 ms\n",
            "Wall time: 2.81 ms\n"
          ],
          "name": "stdout"
        }
      ]
    },
    {
      "cell_type": "code",
      "metadata": {
        "id": "G5zbZKJAEo2I",
        "colab": {
          "base_uri": "https://localhost:8080/"
        },
        "outputId": "d8be2c48-2224-4d98-b345-d29ca4628719"
      },
      "source": [
        "import gensim\n",
        "W2V_SIZE = 300\n",
        "W2V_WINDOW = 7\n",
        "W2V_EPOCH = 32\n",
        "W2V_MIN_COUNT = 10\n",
        "\n",
        "w2v_model = gensim.models.word2vec.Word2Vec(size=W2V_SIZE, \n",
        "                                            window=W2V_WINDOW, \n",
        "                                            min_count=W2V_MIN_COUNT, \n",
        "                                            workers=8)"
      ],
      "execution_count": 18,
      "outputs": [
        {
          "output_type": "stream",
          "text": [
            "2021-06-09 04:43:58,517 : INFO : 'pattern' package not found; tag filters are not available for English\n"
          ],
          "name": "stderr"
        }
      ]
    },
    {
      "cell_type": "code",
      "metadata": {
        "colab": {
          "base_uri": "https://localhost:8080/"
        },
        "id": "-h-57YjoEqT8",
        "outputId": "bd77d466-2bb1-414c-c392-4efb1c454e68"
      },
      "source": [
        "w2v_model.build_vocab(documents)"
      ],
      "execution_count": 19,
      "outputs": [
        {
          "output_type": "stream",
          "text": [
            "2021-06-09 04:43:58,558 : INFO : collecting all words and their counts\n",
            "2021-06-09 04:43:58,562 : INFO : PROGRESS: at sentence #0, processed 0 words, keeping 0 word types\n",
            "2021-06-09 04:43:58,572 : INFO : collected 4871 word types from a corpus of 16299 raw words and 1709 sentences\n",
            "2021-06-09 04:43:58,576 : INFO : Loading a fresh vocabulary\n",
            "2021-06-09 04:43:58,580 : INFO : effective_min_count=10 retains 280 unique words (5% of original 4871, drops 4591)\n",
            "2021-06-09 04:43:58,583 : INFO : effective_min_count=10 leaves 7878 word corpus (48% of original 16299, drops 8421)\n",
            "2021-06-09 04:43:58,592 : INFO : deleting the raw counts dictionary of 4871 items\n",
            "2021-06-09 04:43:58,596 : INFO : sample=0.001 downsamples 109 most-common words\n",
            "2021-06-09 04:43:58,597 : INFO : downsampling leaves estimated 5273 word corpus (66.9% of prior 7878)\n",
            "2021-06-09 04:43:58,601 : INFO : estimated required memory for 280 words and 300 dimensions: 812000 bytes\n",
            "2021-06-09 04:43:58,602 : INFO : resetting layer weights\n"
          ],
          "name": "stderr"
        }
      ]
    },
    {
      "cell_type": "code",
      "metadata": {
        "colab": {
          "base_uri": "https://localhost:8080/"
        },
        "id": "44fhSLx8Ez9h",
        "outputId": "b8c32923-a8db-4d19-a6c5-97b825a907dd"
      },
      "source": [
        "%%time\n",
        "tokenizer = Tokenizer()\n",
        "tokenizer.fit_on_texts(df_train.text)\n",
        "\n",
        "vocab_size = len(tokenizer.word_index) + 1\n",
        "print(\"Total words\", vocab_size)"
      ],
      "execution_count": 20,
      "outputs": [
        {
          "output_type": "stream",
          "text": [
            "Total words 4872\n",
            "CPU times: user 27 ms, sys: 929 µs, total: 27.9 ms\n",
            "Wall time: 27.8 ms\n"
          ],
          "name": "stdout"
        }
      ]
    },
    {
      "cell_type": "code",
      "metadata": {
        "id": "_MSEd7SgFed6"
      },
      "source": [
        "SEQUENCE_LENGTH = 300\n",
        "EPOCHS = 15\n",
        "BATCH_SIZE = 1024"
      ],
      "execution_count": 29,
      "outputs": []
    },
    {
      "cell_type": "code",
      "metadata": {
        "colab": {
          "base_uri": "https://localhost:8080/"
        },
        "id": "6o2KzqjeE-lW",
        "outputId": "c0efab5d-a6dd-4489-907f-1ffb972995e0"
      },
      "source": [
        "%%time\n",
        "x_train = pad_sequences(tokenizer.texts_to_sequences(df_train.text), maxlen=SEQUENCE_LENGTH)\n",
        "x_test = pad_sequences(tokenizer.texts_to_sequences(df_test.text), maxlen=SEQUENCE_LENGTH)"
      ],
      "execution_count": 30,
      "outputs": [
        {
          "output_type": "stream",
          "text": [
            "CPU times: user 29 ms, sys: 937 µs, total: 30 ms\n",
            "Wall time: 31.5 ms\n"
          ],
          "name": "stdout"
        }
      ]
    },
    {
      "cell_type": "code",
      "metadata": {
        "colab": {
          "base_uri": "https://localhost:8080/"
        },
        "id": "rtD-JGBGFEsP",
        "outputId": "a35f2f6e-a25a-44e0-c4f2-58e367afc854"
      },
      "source": [
        "labels = df_train.target.unique().tolist()\n",
        "labels"
      ],
      "execution_count": 31,
      "outputs": [
        {
          "output_type": "execute_result",
          "data": {
            "text/plain": [
              "['positive', 'negative']"
            ]
          },
          "metadata": {
            "tags": []
          },
          "execution_count": 31
        }
      ]
    },
    {
      "cell_type": "code",
      "metadata": {
        "colab": {
          "base_uri": "https://localhost:8080/"
        },
        "id": "GxLdyO8wFGSr",
        "outputId": "14677da8-885e-4a5f-fd05-9fb8f189ae1d"
      },
      "source": [
        "encoder = LabelEncoder()\n",
        "encoder.fit(df_train.target.tolist())\n",
        "\n",
        "y_train = encoder.transform(df_train.target.tolist())\n",
        "y_test = encoder.transform(df_test.target.tolist())\n",
        "\n",
        "y_train = y_train.reshape(-1,1)\n",
        "y_test = y_test.reshape(-1,1)\n",
        "\n",
        "print(\"y_train\",y_train.shape)\n",
        "print(\"y_test\",y_test.shape)\n",
        "\n"
      ],
      "execution_count": 32,
      "outputs": [
        {
          "output_type": "stream",
          "text": [
            "y_train (1709, 1)\n",
            "y_test (91, 1)\n"
          ],
          "name": "stdout"
        }
      ]
    },
    {
      "cell_type": "code",
      "metadata": {
        "colab": {
          "base_uri": "https://localhost:8080/"
        },
        "id": "MafuRvGhFIGI",
        "outputId": "e0421d35-e91b-4a25-f44d-7b45c90c90fb"
      },
      "source": [
        "print(\"x_train\", x_train.shape)\n",
        "print(\"y_train\", y_train.shape)\n",
        "print()\n",
        "print(\"x_test\", x_test.shape)\n",
        "print(\"y_test\", y_test.shape)"
      ],
      "execution_count": 33,
      "outputs": [
        {
          "output_type": "stream",
          "text": [
            "x_train (1709, 300)\n",
            "y_train (1709, 1)\n",
            "\n",
            "x_test (91, 300)\n",
            "y_test (91, 1)\n"
          ],
          "name": "stdout"
        }
      ]
    },
    {
      "cell_type": "code",
      "metadata": {
        "colab": {
          "base_uri": "https://localhost:8080/"
        },
        "id": "V45pKU8DFKhn",
        "outputId": "a2de3dc2-98b5-4272-a48b-d7e43ba26af7"
      },
      "source": [
        "embedding_matrix = np.zeros((vocab_size, W2V_SIZE))\n",
        "for word, i in tokenizer.word_index.items():\n",
        "  if word in w2v_model.wv:\n",
        "    embedding_matrix[i] = w2v_model.wv[word]\n",
        "print(embedding_matrix.shape)"
      ],
      "execution_count": 34,
      "outputs": [
        {
          "output_type": "stream",
          "text": [
            "(4872, 300)\n"
          ],
          "name": "stdout"
        }
      ]
    },
    {
      "cell_type": "code",
      "metadata": {
        "id": "IQym8jX2FMOT"
      },
      "source": [
        "embedding_layer = Embedding(vocab_size, W2V_SIZE, weights=[embedding_matrix], input_length=SEQUENCE_LENGTH, trainable=False)"
      ],
      "execution_count": 35,
      "outputs": []
    },
    {
      "cell_type": "code",
      "metadata": {
        "colab": {
          "base_uri": "https://localhost:8080/"
        },
        "id": "tMwOOgTiFOto",
        "outputId": "a77a0123-8843-4234-eeeb-d8bcca9d76ef"
      },
      "source": [
        "model = Sequential()\n",
        "model.add(embedding_layer)\n",
        "model.add(Dropout(0.5))\n",
        "model.add(LSTM(100, dropout=0.2, recurrent_dropout=0.2))\n",
        "model.add(Dense(1, activation='sigmoid'))\n",
        "\n",
        "model.summary()"
      ],
      "execution_count": 36,
      "outputs": [
        {
          "output_type": "stream",
          "text": [
            "WARNING:tensorflow:Layer lstm will not use cuDNN kernels since it doesn't meet the criteria. It will use a generic GPU kernel as fallback when running on GPU.\n"
          ],
          "name": "stdout"
        },
        {
          "output_type": "stream",
          "text": [
            "2021-06-09 04:44:46,255 : WARNING : Layer lstm will not use cuDNN kernels since it doesn't meet the criteria. It will use a generic GPU kernel as fallback when running on GPU.\n"
          ],
          "name": "stderr"
        },
        {
          "output_type": "stream",
          "text": [
            "Model: \"sequential\"\n",
            "_________________________________________________________________\n",
            "Layer (type)                 Output Shape              Param #   \n",
            "=================================================================\n",
            "embedding (Embedding)        (None, 300, 300)          1461600   \n",
            "_________________________________________________________________\n",
            "dropout (Dropout)            (None, 300, 300)          0         \n",
            "_________________________________________________________________\n",
            "lstm (LSTM)                  (None, 100)               160400    \n",
            "_________________________________________________________________\n",
            "dense (Dense)                (None, 1)                 101       \n",
            "=================================================================\n",
            "Total params: 1,622,101\n",
            "Trainable params: 160,501\n",
            "Non-trainable params: 1,461,600\n",
            "_________________________________________________________________\n"
          ],
          "name": "stdout"
        }
      ]
    },
    {
      "cell_type": "code",
      "metadata": {
        "id": "e6SmjRjHFRut"
      },
      "source": [
        "model.compile(loss='binary_crossentropy',\n",
        "              optimizer=\"adam\",\n",
        "              metrics=['accuracy'])"
      ],
      "execution_count": 37,
      "outputs": []
    },
    {
      "cell_type": "code",
      "metadata": {
        "id": "tUGMBEHdFTH7"
      },
      "source": [
        "# callbacks = [ ReduceLROnPlateau(monitor='val_loss', patience=5, cooldown=0),\n",
        "#               EarlyStopping(monitor='val_accuracy', min_delta=1e-4, patience=5)]"
      ],
      "execution_count": 25,
      "outputs": []
    },
    {
      "cell_type": "code",
      "metadata": {
        "colab": {
          "base_uri": "https://localhost:8080/"
        },
        "id": "G4uDw8geFVS4",
        "outputId": "a9a3ca11-a8c1-4621-9fc6-b1918547275d"
      },
      "source": [
        "%%time\n",
        "history = model.fit(x_train, y_train,\n",
        "                    batch_size=BATCH_SIZE,\n",
        "                    epochs=EPOCHS,\n",
        "                    validation_split=0.1,\n",
        "                    verbose=1)"
      ],
      "execution_count": 38,
      "outputs": [
        {
          "output_type": "stream",
          "text": [
            "Epoch 1/15\n",
            "2/2 [==============================] - 28s 2s/step - loss: 0.6932 - accuracy: 0.5064 - val_loss: 0.6931 - val_accuracy: 0.5146\n",
            "Epoch 2/15\n",
            "2/2 [==============================] - 2s 1s/step - loss: 0.6931 - accuracy: 0.4984 - val_loss: 0.6932 - val_accuracy: 0.4854\n",
            "Epoch 3/15\n",
            "2/2 [==============================] - 2s 1s/step - loss: 0.6931 - accuracy: 0.5066 - val_loss: 0.6935 - val_accuracy: 0.4854\n",
            "Epoch 4/15\n",
            "2/2 [==============================] - 2s 1s/step - loss: 0.6931 - accuracy: 0.5017 - val_loss: 0.6936 - val_accuracy: 0.4854\n",
            "Epoch 5/15\n",
            "2/2 [==============================] - 3s 1s/step - loss: 0.6930 - accuracy: 0.5053 - val_loss: 0.6939 - val_accuracy: 0.4854\n",
            "Epoch 6/15\n",
            "2/2 [==============================] - 2s 1s/step - loss: 0.6932 - accuracy: 0.5008 - val_loss: 0.6940 - val_accuracy: 0.4854\n",
            "Epoch 7/15\n",
            "2/2 [==============================] - 2s 1s/step - loss: 0.6929 - accuracy: 0.5095 - val_loss: 0.6942 - val_accuracy: 0.4854\n",
            "Epoch 8/15\n",
            "2/2 [==============================] - 3s 1s/step - loss: 0.6931 - accuracy: 0.5043 - val_loss: 0.6942 - val_accuracy: 0.4854\n",
            "Epoch 9/15\n",
            "2/2 [==============================] - 2s 1s/step - loss: 0.6931 - accuracy: 0.5060 - val_loss: 0.6941 - val_accuracy: 0.4854\n",
            "Epoch 10/15\n",
            "2/2 [==============================] - 2s 1s/step - loss: 0.6928 - accuracy: 0.5105 - val_loss: 0.6940 - val_accuracy: 0.4854\n",
            "Epoch 11/15\n",
            "2/2 [==============================] - 2s 1s/step - loss: 0.6931 - accuracy: 0.5034 - val_loss: 0.6939 - val_accuracy: 0.4854\n",
            "Epoch 12/15\n",
            "2/2 [==============================] - 2s 1s/step - loss: 0.6931 - accuracy: 0.5027 - val_loss: 0.6937 - val_accuracy: 0.4854\n",
            "Epoch 13/15\n",
            "2/2 [==============================] - 2s 1s/step - loss: 0.6928 - accuracy: 0.5079 - val_loss: 0.6937 - val_accuracy: 0.4854\n",
            "Epoch 14/15\n",
            "2/2 [==============================] - 2s 1s/step - loss: 0.6928 - accuracy: 0.5069 - val_loss: 0.6936 - val_accuracy: 0.4854\n",
            "Epoch 15/15\n",
            "2/2 [==============================] - 2s 1s/step - loss: 0.6930 - accuracy: 0.5030 - val_loss: 0.6935 - val_accuracy: 0.4854\n",
            "CPU times: user 1min 14s, sys: 7.3 s, total: 1min 21s\n",
            "Wall time: 1min 43s\n"
          ],
          "name": "stdout"
        }
      ]
    },
    {
      "cell_type": "code",
      "metadata": {
        "colab": {
          "base_uri": "https://localhost:8080/"
        },
        "id": "afQ5YEOjAzFK",
        "outputId": "11ff5408-dd08-49fe-a389-a178d90a5cad"
      },
      "source": [
        " %%time\n",
        "score = model.evaluate(x_test, y_test, batch_size=BATCH_SIZE)\n",
        "print()\n",
        "print(\"ACCURACY:\",score[1])\n",
        "print(\"LOSS:\",score[0])"
      ],
      "execution_count": 39,
      "outputs": [
        {
          "output_type": "stream",
          "text": [
            "1/1 [==============================] - 0s 115ms/step - loss: 0.6919 - accuracy: 0.5385\n",
            "\n",
            "ACCURACY: 0.5384615659713745\n",
            "LOSS: 0.6919047832489014\n",
            "CPU times: user 147 ms, sys: 2.74 ms, total: 149 ms\n",
            "Wall time: 153 ms\n"
          ],
          "name": "stdout"
        }
      ]
    },
    {
      "cell_type": "code",
      "metadata": {
        "colab": {
          "base_uri": "https://localhost:8080/",
          "height": 545
        },
        "id": "ulzJTz2lBB_8",
        "outputId": "6c233032-6547-432e-ac38-ea250defde67"
      },
      "source": [
        "acc = history.history['accuracy']\n",
        "val_acc = history.history['val_accuracy']\n",
        "loss = history.history['loss']\n",
        "val_loss = history.history['val_loss']\n",
        " \n",
        "epochs = range(len(acc))\n",
        " \n",
        "plt.plot(epochs, acc, 'b', label='Training acc')\n",
        "plt.plot(epochs, val_acc, 'r', label='Validation acc')\n",
        "plt.title('Training and validation accuracy')\n",
        "plt.legend()\n",
        " \n",
        "plt.figure()\n",
        " \n",
        "plt.plot(epochs, loss, 'b', label='Training loss')\n",
        "plt.plot(epochs, val_loss, 'r', label='Validation loss')\n",
        "plt.title('Training and validation loss')\n",
        "plt.legend()\n",
        " \n",
        "plt.show()"
      ],
      "execution_count": 40,
      "outputs": [
        {
          "output_type": "display_data",
          "data": {
            "image/png": "[encoded data removed]",
            "text/plain": [
              "<Figure size 432x288 with 1 Axes>"
            ]
          },
          "metadata": {
            "tags": [],
            "needs_background": "light"
          }
        },
        {
          "output_type": "display_data",
          "data": {
            "image/png": "[encoded data removed]",
            "text/plain": [
              "<Figure size 432x288 with 1 Axes>"
            ]
          },
          "metadata": {
            "tags": [],
            "needs_background": "light"
          }
        }
      ]
    },
    {
      "cell_type": "code",
      "metadata": {
        "id": "GcO3APwHBKc7"
      },
      "source": [
        "SENTIMENT_THRESHOLDS = (0.4, 0.7)\n",
        "def decode_sentiment(score, include_neutral=True):\n",
        "    if include_neutral:        \n",
        "        label = \"NEUTRAL\"\n",
        "        if score <= SENTIMENT_THRESHOLDS[0]:\n",
        "            label = \"NEGATIVE\"\n",
        "        elif score >= SENTIMENT_THRESHOLDS[1]:\n",
        "            label = \"POSITIVE\"\n",
        "\n",
        "        return label\n",
        "    else:\n",
        "        return \"NEGATIVE\" if score < 0.5 else \"POSITIVE\""
      ],
      "execution_count": 41,
      "outputs": []
    },
    {
      "cell_type": "code",
      "metadata": {
        "id": "RU9xS-iDBLtP"
      },
      "source": [
        "def predict(text, include_neutral=True):\n",
        "    start_at = time.time()\n",
        "    # Tokenize text\n",
        "    x_test = pad_sequences(tokenizer.texts_to_sequences([text]), maxlen=SEQUENCE_LENGTH)\n",
        "    print(x_test)\n",
        "    # Predict\n",
        "    score = model.predict([x_test])[0]\n",
        "    # Decode sentiment\n",
        "    label = decode_sentiment(score, include_neutral=include_neutral)\n",
        "\n",
        "    return {\"label\": label, \"score\": float(score),\n",
        "       \"elapsed_time\": time.time()-start_at}  "
      ],
      "execution_count": 42,
      "outputs": []
    },
    {
      "cell_type": "code",
      "metadata": {
        "colab": {
          "base_uri": "https://localhost:8080/"
        },
        "id": "Ohxiso1hBNbF",
        "outputId": "dcdf3f53-46f0-4adb-baa1-de7dd6eadbed"
      },
      "source": [
        "predict(\"Barangnya jelek asli rugi banget\", include_neutral=False)"
      ],
      "execution_count": 43,
      "outputs": [
        {
          "output_type": "stream",
          "text": [
            "[[  0   0   0   0   0   0   0   0   0   0   0   0   0   0   0   0   0   0\n",
            "    0   0   0   0   0   0   0   0   0   0   0   0   0   0   0   0   0   0\n",
            "    0   0   0   0   0   0   0   0   0   0   0   0   0   0   0   0   0   0\n",
            "    0   0   0   0   0   0   0   0   0   0   0   0   0   0   0   0   0   0\n",
            "    0   0   0   0   0   0   0   0   0   0   0   0   0   0   0   0   0   0\n",
            "    0   0   0   0   0   0   0   0   0   0   0   0   0   0   0   0   0   0\n",
            "    0   0   0   0   0   0   0   0   0   0   0   0   0   0   0   0   0   0\n",
            "    0   0   0   0   0   0   0   0   0   0   0   0   0   0   0   0   0   0\n",
            "    0   0   0   0   0   0   0   0   0   0   0   0   0   0   0   0   0   0\n",
            "    0   0   0   0   0   0   0   0   0   0   0   0   0   0   0   0   0   0\n",
            "    0   0   0   0   0   0   0   0   0   0   0   0   0   0   0   0   0   0\n",
            "    0   0   0   0   0   0   0   0   0   0   0   0   0   0   0   0   0   0\n",
            "    0   0   0   0   0   0   0   0   0   0   0   0   0   0   0   0   0   0\n",
            "    0   0   0   0   0   0   0   0   0   0   0   0   0   0   0   0   0   0\n",
            "    0   0   0   0   0   0   0   0   0   0   0   0   0   0   0   0   0   0\n",
            "    0   0   0   0   0   0   0   0   0   0   0   0   0   0   0   0   0   0\n",
            "    0   0   0   0   0   0   0   0  83 437 419  21]]\n"
          ],
          "name": "stdout"
        },
        {
          "output_type": "execute_result",
          "data": {
            "text/plain": [
              "{'elapsed_time': 0.9617018699645996,\n",
              " 'label': 'NEGATIVE',\n",
              " 'score': 0.4926251471042633}"
            ]
          },
          "metadata": {
            "tags": []
          },
          "execution_count": 43
        }
      ]
    },
    {
      "cell_type": "code",
      "metadata": {
        "id": "sf3eFdkU6ZLh"
      },
      "source": [
        "model.save(\"my_h5_bahasa_model.h5\")"
      ],
      "execution_count": null,
      "outputs": []
    },
    {
      "cell_type": "code",
      "metadata": {
        "id": "emQy-44Xe0uO"
      },
      "source": [
        "import tensorflow as tf\n",
        "from google.colab import drive\n",
        "drive.mount('/content/gdrive')"
      ],
      "execution_count": null,
      "outputs": []
    },
    {
      "cell_type": "code",
      "metadata": {
        "id": "hCo0L14-fgMS"
      },
      "source": [
        "!ls /content/gdrive/MyDrive"
      ],
      "execution_count": null,
      "outputs": []
    },
    {
      "cell_type": "code",
      "metadata": {
        "id": "U-lRUjaCfrUi"
      },
      "source": [
        "\n",
        "import os\n",
        "save_path = os.path.join(\"/content/gdrive/MyDrive/coba/1\")"
      ],
      "execution_count": null,
      "outputs": []
    },
    {
      "cell_type": "code",
      "metadata": {
        "id": "-KWT32uEavc6"
      },
      "source": [
        "tf.keras.models.save_model(model, save_path)"
      ],
      "execution_count": null,
      "outputs": []
    },
    {
      "cell_type": "code",
      "metadata": {
        "id": "_kET3ZjYgTcH"
      },
      "source": [
        "!ls /content/gdrive/MyDrive\n"
      ],
      "execution_count": null,
      "outputs": []
    }
  ]
}